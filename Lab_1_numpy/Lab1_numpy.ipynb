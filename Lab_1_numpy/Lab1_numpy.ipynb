{
 "cells": [
  {
   "cell_type": "markdown",
   "id": "c340957b",
   "metadata": {},
   "source": [
    "# Использование numpy"
   ]
  },
  {
   "cell_type": "markdown",
   "id": "893233dd",
   "metadata": {
    "toc": true
   },
   "source": [
    "<h1>Table of Contents<span class=\"tocSkip\"></span></h1>\n",
    "\n",
    "<div class=\"toc\"><ul class=\"toc-item\"><li><span><a href=\"#Генерация-массивов\" data-toc-modified-id=\"Генерация-массивов-1\"><span class=\"toc-item-num\">1&nbsp;&nbsp;</span>Генерация массивов</a></span></li><li><span><a href=\"#Арифметические-операции-над-элементами-двумерного-массива\" data-toc-modified-id=\"Арифметические-операции-над-элементами-двумерного-массива-2\"><span class=\"toc-item-num\">2&nbsp;&nbsp;</span>Арифметические операции над элементами двумерного массива</a></span></li><li><span><a href=\"#Игра-&quot;Жизнь&quot;\" data-toc-modified-id=\"Игра-&quot;Жизнь&quot;-3\"><span class=\"toc-item-num\">3&nbsp;&nbsp;</span>Игра \"Жизнь\"</a></span></li></ul></div>"
   ]
  },
  {
   "cell_type": "markdown",
   "id": "80ab1a90",
   "metadata": {},
   "source": [
    "Импортируем необходимые библиотеки"
   ]
  },
  {
   "cell_type": "code",
   "execution_count": 1,
   "id": "80711649",
   "metadata": {},
   "outputs": [],
   "source": [
    "import numpy as np\n",
    "import time\n",
    "import random\n",
    "import pandas as pd"
   ]
  },
  {
   "cell_type": "markdown",
   "id": "c8858f6a",
   "metadata": {},
   "source": [
    "## Генерация массивов"
   ]
  },
  {
   "cell_type": "markdown",
   "id": "cdab388c",
   "metadata": {},
   "source": [
    "Генерируем линейный массив чисел с плавающей точкой размерностью (1,20)"
   ]
  },
  {
   "cell_type": "code",
   "execution_count": 2,
   "id": "94083715",
   "metadata": {
    "scrolled": false
   },
   "outputs": [
    {
     "data": {
      "text/plain": [
       "array([0.95868626, 0.70453428, 0.78684808, 0.55062828, 0.4722812 ,\n",
       "       0.71307644, 0.17037235, 0.05015925, 0.33167585, 0.80654822,\n",
       "       0.62149951, 0.04102747, 0.97848087, 0.11352118, 0.71986886,\n",
       "       0.89734632, 0.79937761, 0.01766554, 0.77328017, 0.98978127])"
      ]
     },
     "execution_count": 2,
     "metadata": {},
     "output_type": "execute_result"
    }
   ],
   "source": [
    "np.random.rand(20)"
   ]
  },
  {
   "cell_type": "markdown",
   "id": "a7dae88d",
   "metadata": {},
   "source": [
    "Далее создаем функцию генерации одномерных массивов и оцениваем время, затраченного на генерацию"
   ]
  },
  {
   "cell_type": "code",
   "execution_count": 3,
   "id": "edde002a",
   "metadata": {},
   "outputs": [],
   "source": [
    "def generate_array_numpy():\n",
    "    \"\"\"Генерация одномерных массивов с помощью numpy\"\"\"\n",
    "    \n",
    "    count_list = [100,1000,100000,1000000,100000000]\n",
    "    \n",
    "    for count in count_list:\n",
    "        start_time = time.time()\n",
    "        np.random.rand(count)\n",
    "        \n",
    "        time_now = (time.time() - start_time)\n",
    "        time_now = round(time_now, 3)\n",
    "        print(f\"{count} элементов генерируется {time_now} секунд\")"
   ]
  },
  {
   "cell_type": "code",
   "execution_count": 4,
   "id": "50ad10a2",
   "metadata": {
    "scrolled": true
   },
   "outputs": [
    {
     "name": "stdout",
     "output_type": "stream",
     "text": [
      "100 элементов генерируется 0.0 секунд\n",
      "1000 элементов генерируется 0.001 секунд\n",
      "100000 элементов генерируется 0.001 секунд\n",
      "1000000 элементов генерируется 0.007 секунд\n",
      "100000000 элементов генерируется 0.635 секунд\n"
     ]
    }
   ],
   "source": [
    "generate_array_numpy()"
   ]
  },
  {
   "cell_type": "markdown",
   "id": "0d9fbbcd",
   "metadata": {},
   "source": [
    "Генерируем двумерный массив чисел с плавающей точкой размерностью (2,10)"
   ]
  },
  {
   "cell_type": "code",
   "execution_count": 5,
   "id": "53af74f6",
   "metadata": {},
   "outputs": [
    {
     "data": {
      "text/plain": [
       "array([[0.98312621, 0.90945671, 0.90484777, 0.04881321, 0.15309668,\n",
       "        0.31233928, 0.27097192, 0.97765442, 0.84987089, 0.26306287],\n",
       "       [0.78979034, 0.23840016, 0.95996962, 0.99139826, 0.16238876,\n",
       "        0.43089401, 0.65622825, 0.94294839, 0.87620737, 0.80099506]])"
      ]
     },
     "execution_count": 5,
     "metadata": {},
     "output_type": "execute_result"
    }
   ],
   "source": [
    "np.random.rand(2,10)"
   ]
  },
  {
   "cell_type": "markdown",
   "id": "e42bbc02",
   "metadata": {},
   "source": [
    "Функция генерации двумерных массивов с оценкой затраченного времени"
   ]
  },
  {
   "cell_type": "code",
   "execution_count": 6,
   "id": "f10b1c68",
   "metadata": {},
   "outputs": [],
   "source": [
    "def generate_matrix_numpy():\n",
    "    \"\"\"Генерация многомерных массивов с помощью numpy\"\"\"\n",
    "    \n",
    "    count_list = [100,1000,100000,1000000,100000000]\n",
    "    \n",
    "    for count in count_list:\n",
    "        start_time = time.time()\n",
    "        np.random.rand(2, count)\n",
    "        \n",
    "        time_now = (time.time() - start_time)\n",
    "        time_now = round(time_now, 3)\n",
    "        print(f\"{count} элементов генерируется {time_now} секунд\")"
   ]
  },
  {
   "cell_type": "code",
   "execution_count": 7,
   "id": "fd6442dd",
   "metadata": {
    "scrolled": true
   },
   "outputs": [
    {
     "name": "stdout",
     "output_type": "stream",
     "text": [
      "100 элементов генерируется 0.0 секунд\n",
      "1000 элементов генерируется 0.0 секунд\n",
      "100000 элементов генерируется 0.002 секунд\n",
      "1000000 элементов генерируется 0.014 секунд\n",
      "100000000 элементов генерируется 1.282 секунд\n"
     ]
    }
   ],
   "source": [
    "generate_matrix_numpy()"
   ]
  },
  {
   "cell_type": "markdown",
   "id": "81ef725f",
   "metadata": {},
   "source": [
    "Затем попробуем сгенерировать массивы с помощью стандартной библиотеки pyhon и сравнить время, которое затрачивается на генерацию массивов одинаковой размерности."
   ]
  },
  {
   "cell_type": "code",
   "execution_count": 8,
   "id": "7e91c540",
   "metadata": {},
   "outputs": [
    {
     "data": {
      "text/plain": [
       "[0.6839324576798286,\n",
       " 0.10496452969165304,\n",
       " 0.5462635731137321,\n",
       " 0.17261466328863306,\n",
       " 0.46380781426676765,\n",
       " 0.4338355343552631,\n",
       " 0.9871894476475469,\n",
       " 0.47791351403427984,\n",
       " 0.4838683350639025,\n",
       " 0.03678713525134569,\n",
       " 0.23486726756756449,\n",
       " 0.5416392602199976,\n",
       " 0.010283607324228394,\n",
       " 0.8190467672273023,\n",
       " 0.2531000806512784,\n",
       " 0.6411823171791621,\n",
       " 0.8435555102093102,\n",
       " 0.46550215306807186,\n",
       " 0.3967281103186471,\n",
       " 0.35037518026287595]"
      ]
     },
     "execution_count": 8,
     "metadata": {},
     "output_type": "execute_result"
    }
   ],
   "source": [
    "array_list = []\n",
    "for i in range(20):\n",
    "    array_list.append(random.random())\n",
    "array_list"
   ]
  },
  {
   "cell_type": "code",
   "execution_count": 9,
   "id": "ab0afee5",
   "metadata": {},
   "outputs": [],
   "source": [
    "def generate_array_python():\n",
    "    \"\"\"Генерация многомерных массивов с помощью python\"\"\"\n",
    "    \n",
    "    count_list = [100,1000,100000,1000000,100000000]\n",
    "    \n",
    "    for count in count_list:\n",
    "        start_time = time.time()\n",
    "        \n",
    "        array_list = []\n",
    "        for iter in range(count):\n",
    "            array_list.append(random.random())\n",
    "        \n",
    "        time_now = (time.time() - start_time)\n",
    "        time_now = round(time_now, 3)\n",
    "        print(f\"{count} элементов генерируется {time_now} секунд\")"
   ]
  },
  {
   "cell_type": "code",
   "execution_count": 10,
   "id": "cc4bc21f",
   "metadata": {},
   "outputs": [
    {
     "name": "stdout",
     "output_type": "stream",
     "text": [
      "100 элементов генерируется 0.0 секунд\n",
      "1000 элементов генерируется 0.0 секунд\n",
      "100000 элементов генерируется 0.011 секунд\n",
      "1000000 элементов генерируется 0.114 секунд\n",
      "100000000 элементов генерируется 12.009 секунд\n"
     ]
    }
   ],
   "source": [
    "generate_array_python()"
   ]
  },
  {
   "cell_type": "markdown",
   "id": "61568896",
   "metadata": {},
   "source": [
    "**На генерацию массивов с помощью стандартной библиотеки python уходит намного больше времени, чем используя numpy. Так например, чтобы создать одномерный массив размерностью (1, 1000000), у python уходит 12.009 секунд, а у numpy всего 1.282**"
   ]
  },
  {
   "cell_type": "markdown",
   "id": "a9df5605",
   "metadata": {},
   "source": [
    "## Арифметические операции над элементами двумерного массива"
   ]
  },
  {
   "cell_type": "markdown",
   "id": "f4cb4b2b",
   "metadata": {},
   "source": [
    "Создадим 2 матрицы размера (2,5)"
   ]
  },
  {
   "cell_type": "code",
   "execution_count": 12,
   "id": "7186b942",
   "metadata": {},
   "outputs": [],
   "source": [
    "rand_matrix1 = np.random.rand(2,5)\n",
    "rand_matrix2 = np.random.rand(2,5)"
   ]
  },
  {
   "cell_type": "markdown",
   "id": "eafeb718",
   "metadata": {},
   "source": [
    "Для удобства восприятия выводим массивы в качестве датафрейма"
   ]
  },
  {
   "cell_type": "code",
   "execution_count": 13,
   "id": "06b6ccaf",
   "metadata": {},
   "outputs": [
    {
     "data": {
      "text/html": [
       "<div>\n",
       "<style scoped>\n",
       "    .dataframe tbody tr th:only-of-type {\n",
       "        vertical-align: middle;\n",
       "    }\n",
       "\n",
       "    .dataframe tbody tr th {\n",
       "        vertical-align: top;\n",
       "    }\n",
       "\n",
       "    .dataframe thead th {\n",
       "        text-align: right;\n",
       "    }\n",
       "</style>\n",
       "<table border=\"1\" class=\"dataframe\">\n",
       "  <thead>\n",
       "    <tr style=\"text-align: right;\">\n",
       "      <th></th>\n",
       "      <th>0</th>\n",
       "      <th>1</th>\n",
       "      <th>2</th>\n",
       "      <th>3</th>\n",
       "      <th>4</th>\n",
       "    </tr>\n",
       "  </thead>\n",
       "  <tbody>\n",
       "    <tr>\n",
       "      <th>0</th>\n",
       "      <td>0.018684</td>\n",
       "      <td>0.200601</td>\n",
       "      <td>0.137593</td>\n",
       "      <td>0.696805</td>\n",
       "      <td>0.745771</td>\n",
       "    </tr>\n",
       "    <tr>\n",
       "      <th>1</th>\n",
       "      <td>0.718171</td>\n",
       "      <td>0.410292</td>\n",
       "      <td>0.043472</td>\n",
       "      <td>0.469058</td>\n",
       "      <td>0.388121</td>\n",
       "    </tr>\n",
       "  </tbody>\n",
       "</table>\n",
       "</div>"
      ],
      "text/plain": [
       "          0         1         2         3         4\n",
       "0  0.018684  0.200601  0.137593  0.696805  0.745771\n",
       "1  0.718171  0.410292  0.043472  0.469058  0.388121"
      ]
     },
     "execution_count": 13,
     "metadata": {},
     "output_type": "execute_result"
    }
   ],
   "source": [
    "pd.DataFrame(rand_matrix1)"
   ]
  },
  {
   "cell_type": "code",
   "execution_count": 14,
   "id": "9844aa3b",
   "metadata": {
    "scrolled": true
   },
   "outputs": [
    {
     "data": {
      "text/html": [
       "<div>\n",
       "<style scoped>\n",
       "    .dataframe tbody tr th:only-of-type {\n",
       "        vertical-align: middle;\n",
       "    }\n",
       "\n",
       "    .dataframe tbody tr th {\n",
       "        vertical-align: top;\n",
       "    }\n",
       "\n",
       "    .dataframe thead th {\n",
       "        text-align: right;\n",
       "    }\n",
       "</style>\n",
       "<table border=\"1\" class=\"dataframe\">\n",
       "  <thead>\n",
       "    <tr style=\"text-align: right;\">\n",
       "      <th></th>\n",
       "      <th>0</th>\n",
       "      <th>1</th>\n",
       "      <th>2</th>\n",
       "      <th>3</th>\n",
       "      <th>4</th>\n",
       "    </tr>\n",
       "  </thead>\n",
       "  <tbody>\n",
       "    <tr>\n",
       "      <th>0</th>\n",
       "      <td>0.219568</td>\n",
       "      <td>0.473763</td>\n",
       "      <td>0.946018</td>\n",
       "      <td>0.586615</td>\n",
       "      <td>0.796200</td>\n",
       "    </tr>\n",
       "    <tr>\n",
       "      <th>1</th>\n",
       "      <td>0.340692</td>\n",
       "      <td>0.926975</td>\n",
       "      <td>0.634594</td>\n",
       "      <td>0.524239</td>\n",
       "      <td>0.070973</td>\n",
       "    </tr>\n",
       "  </tbody>\n",
       "</table>\n",
       "</div>"
      ],
      "text/plain": [
       "          0         1         2         3         4\n",
       "0  0.219568  0.473763  0.946018  0.586615  0.796200\n",
       "1  0.340692  0.926975  0.634594  0.524239  0.070973"
      ]
     },
     "execution_count": 14,
     "metadata": {},
     "output_type": "execute_result"
    }
   ],
   "source": [
    "pd.DataFrame(rand_matrix2)"
   ]
  },
  {
   "cell_type": "markdown",
   "id": "089f474f",
   "metadata": {},
   "source": [
    "* **Умножение на число**"
   ]
  },
  {
   "cell_type": "code",
   "execution_count": 15,
   "id": "1a98ec61",
   "metadata": {
    "scrolled": true
   },
   "outputs": [
    {
     "data": {
      "text/html": [
       "<div>\n",
       "<style scoped>\n",
       "    .dataframe tbody tr th:only-of-type {\n",
       "        vertical-align: middle;\n",
       "    }\n",
       "\n",
       "    .dataframe tbody tr th {\n",
       "        vertical-align: top;\n",
       "    }\n",
       "\n",
       "    .dataframe thead th {\n",
       "        text-align: right;\n",
       "    }\n",
       "</style>\n",
       "<table border=\"1\" class=\"dataframe\">\n",
       "  <thead>\n",
       "    <tr style=\"text-align: right;\">\n",
       "      <th></th>\n",
       "      <th>0</th>\n",
       "      <th>1</th>\n",
       "      <th>2</th>\n",
       "      <th>3</th>\n",
       "      <th>4</th>\n",
       "    </tr>\n",
       "  </thead>\n",
       "  <tbody>\n",
       "    <tr>\n",
       "      <th>0</th>\n",
       "      <td>0.093418</td>\n",
       "      <td>1.003003</td>\n",
       "      <td>0.687964</td>\n",
       "      <td>3.484027</td>\n",
       "      <td>3.728855</td>\n",
       "    </tr>\n",
       "    <tr>\n",
       "      <th>1</th>\n",
       "      <td>3.590857</td>\n",
       "      <td>2.051459</td>\n",
       "      <td>0.217362</td>\n",
       "      <td>2.345291</td>\n",
       "      <td>1.940605</td>\n",
       "    </tr>\n",
       "  </tbody>\n",
       "</table>\n",
       "</div>"
      ],
      "text/plain": [
       "          0         1         2         3         4\n",
       "0  0.093418  1.003003  0.687964  3.484027  3.728855\n",
       "1  3.590857  2.051459  0.217362  2.345291  1.940605"
      ]
     },
     "execution_count": 15,
     "metadata": {},
     "output_type": "execute_result"
    }
   ],
   "source": [
    "number_multipl_matrix = 5 * rand_matrix1\n",
    "pd.DataFrame(number_multipl_matrix)"
   ]
  },
  {
   "cell_type": "markdown",
   "id": "82a47d64",
   "metadata": {},
   "source": [
    "* **Сложение матриц**"
   ]
  },
  {
   "cell_type": "code",
   "execution_count": 16,
   "id": "41b8b77f",
   "metadata": {
    "scrolled": true
   },
   "outputs": [
    {
     "data": {
      "text/html": [
       "<div>\n",
       "<style scoped>\n",
       "    .dataframe tbody tr th:only-of-type {\n",
       "        vertical-align: middle;\n",
       "    }\n",
       "\n",
       "    .dataframe tbody tr th {\n",
       "        vertical-align: top;\n",
       "    }\n",
       "\n",
       "    .dataframe thead th {\n",
       "        text-align: right;\n",
       "    }\n",
       "</style>\n",
       "<table border=\"1\" class=\"dataframe\">\n",
       "  <thead>\n",
       "    <tr style=\"text-align: right;\">\n",
       "      <th></th>\n",
       "      <th>0</th>\n",
       "      <th>1</th>\n",
       "      <th>2</th>\n",
       "      <th>3</th>\n",
       "      <th>4</th>\n",
       "    </tr>\n",
       "  </thead>\n",
       "  <tbody>\n",
       "    <tr>\n",
       "      <th>0</th>\n",
       "      <td>0.238252</td>\n",
       "      <td>0.674364</td>\n",
       "      <td>1.083611</td>\n",
       "      <td>1.283420</td>\n",
       "      <td>1.541971</td>\n",
       "    </tr>\n",
       "    <tr>\n",
       "      <th>1</th>\n",
       "      <td>1.058863</td>\n",
       "      <td>1.337267</td>\n",
       "      <td>0.678066</td>\n",
       "      <td>0.993297</td>\n",
       "      <td>0.459094</td>\n",
       "    </tr>\n",
       "  </tbody>\n",
       "</table>\n",
       "</div>"
      ],
      "text/plain": [
       "          0         1         2         3         4\n",
       "0  0.238252  0.674364  1.083611  1.283420  1.541971\n",
       "1  1.058863  1.337267  0.678066  0.993297  0.459094"
      ]
     },
     "execution_count": 16,
     "metadata": {},
     "output_type": "execute_result"
    }
   ],
   "source": [
    "sum_matrix = rand_matrix1 + rand_matrix2\n",
    "pd.DataFrame(sum_matrix)"
   ]
  },
  {
   "cell_type": "markdown",
   "id": "8b882267",
   "metadata": {},
   "source": [
    "* **Разность матриц**"
   ]
  },
  {
   "cell_type": "code",
   "execution_count": 17,
   "id": "98d2ebba",
   "metadata": {
    "scrolled": true
   },
   "outputs": [
    {
     "data": {
      "text/html": [
       "<div>\n",
       "<style scoped>\n",
       "    .dataframe tbody tr th:only-of-type {\n",
       "        vertical-align: middle;\n",
       "    }\n",
       "\n",
       "    .dataframe tbody tr th {\n",
       "        vertical-align: top;\n",
       "    }\n",
       "\n",
       "    .dataframe thead th {\n",
       "        text-align: right;\n",
       "    }\n",
       "</style>\n",
       "<table border=\"1\" class=\"dataframe\">\n",
       "  <thead>\n",
       "    <tr style=\"text-align: right;\">\n",
       "      <th></th>\n",
       "      <th>0</th>\n",
       "      <th>1</th>\n",
       "      <th>2</th>\n",
       "      <th>3</th>\n",
       "      <th>4</th>\n",
       "    </tr>\n",
       "  </thead>\n",
       "  <tbody>\n",
       "    <tr>\n",
       "      <th>0</th>\n",
       "      <td>-0.200885</td>\n",
       "      <td>-0.273163</td>\n",
       "      <td>-0.808425</td>\n",
       "      <td>0.110191</td>\n",
       "      <td>-0.050429</td>\n",
       "    </tr>\n",
       "    <tr>\n",
       "      <th>1</th>\n",
       "      <td>0.377480</td>\n",
       "      <td>-0.516683</td>\n",
       "      <td>-0.591121</td>\n",
       "      <td>-0.055181</td>\n",
       "      <td>0.317148</td>\n",
       "    </tr>\n",
       "  </tbody>\n",
       "</table>\n",
       "</div>"
      ],
      "text/plain": [
       "          0         1         2         3         4\n",
       "0 -0.200885 -0.273163 -0.808425  0.110191 -0.050429\n",
       "1  0.377480 -0.516683 -0.591121 -0.055181  0.317148"
      ]
     },
     "execution_count": 17,
     "metadata": {},
     "output_type": "execute_result"
    }
   ],
   "source": [
    "sum_matrix = rand_matrix1 - rand_matrix2\n",
    "pd.DataFrame(sum_matrix)"
   ]
  },
  {
   "cell_type": "markdown",
   "id": "30840a62",
   "metadata": {},
   "source": [
    "* **Транспонирование матрицы**"
   ]
  },
  {
   "cell_type": "code",
   "execution_count": 18,
   "id": "4d2a8d45",
   "metadata": {
    "scrolled": true
   },
   "outputs": [
    {
     "data": {
      "text/html": [
       "<div>\n",
       "<style scoped>\n",
       "    .dataframe tbody tr th:only-of-type {\n",
       "        vertical-align: middle;\n",
       "    }\n",
       "\n",
       "    .dataframe tbody tr th {\n",
       "        vertical-align: top;\n",
       "    }\n",
       "\n",
       "    .dataframe thead th {\n",
       "        text-align: right;\n",
       "    }\n",
       "</style>\n",
       "<table border=\"1\" class=\"dataframe\">\n",
       "  <thead>\n",
       "    <tr style=\"text-align: right;\">\n",
       "      <th></th>\n",
       "      <th>0</th>\n",
       "      <th>1</th>\n",
       "    </tr>\n",
       "  </thead>\n",
       "  <tbody>\n",
       "    <tr>\n",
       "      <th>0</th>\n",
       "      <td>0.219568</td>\n",
       "      <td>0.340692</td>\n",
       "    </tr>\n",
       "    <tr>\n",
       "      <th>1</th>\n",
       "      <td>0.473763</td>\n",
       "      <td>0.926975</td>\n",
       "    </tr>\n",
       "    <tr>\n",
       "      <th>2</th>\n",
       "      <td>0.946018</td>\n",
       "      <td>0.634594</td>\n",
       "    </tr>\n",
       "    <tr>\n",
       "      <th>3</th>\n",
       "      <td>0.586615</td>\n",
       "      <td>0.524239</td>\n",
       "    </tr>\n",
       "    <tr>\n",
       "      <th>4</th>\n",
       "      <td>0.796200</td>\n",
       "      <td>0.070973</td>\n",
       "    </tr>\n",
       "  </tbody>\n",
       "</table>\n",
       "</div>"
      ],
      "text/plain": [
       "          0         1\n",
       "0  0.219568  0.340692\n",
       "1  0.473763  0.926975\n",
       "2  0.946018  0.634594\n",
       "3  0.586615  0.524239\n",
       "4  0.796200  0.070973"
      ]
     },
     "execution_count": 18,
     "metadata": {},
     "output_type": "execute_result"
    }
   ],
   "source": [
    "trans_matrix = rand_matrix2.T\n",
    "pd.DataFrame(trans_matrix)"
   ]
  },
  {
   "cell_type": "markdown",
   "id": "a1b8c96c",
   "metadata": {},
   "source": [
    "* **Произведение матриц**"
   ]
  },
  {
   "cell_type": "code",
   "execution_count": 19,
   "id": "24279a15",
   "metadata": {
    "scrolled": true
   },
   "outputs": [
    {
     "data": {
      "text/html": [
       "<div>\n",
       "<style scoped>\n",
       "    .dataframe tbody tr th:only-of-type {\n",
       "        vertical-align: middle;\n",
       "    }\n",
       "\n",
       "    .dataframe tbody tr th {\n",
       "        vertical-align: top;\n",
       "    }\n",
       "\n",
       "    .dataframe thead th {\n",
       "        text-align: right;\n",
       "    }\n",
       "</style>\n",
       "<table border=\"1\" class=\"dataframe\">\n",
       "  <thead>\n",
       "    <tr style=\"text-align: right;\">\n",
       "      <th></th>\n",
       "      <th>0</th>\n",
       "      <th>1</th>\n",
       "    </tr>\n",
       "  </thead>\n",
       "  <tbody>\n",
       "    <tr>\n",
       "      <th>0</th>\n",
       "      <td>1.231844</td>\n",
       "      <td>0.697855</td>\n",
       "    </tr>\n",
       "    <tr>\n",
       "      <th>1</th>\n",
       "      <td>0.977373</td>\n",
       "      <td>0.926038</td>\n",
       "    </tr>\n",
       "  </tbody>\n",
       "</table>\n",
       "</div>"
      ],
      "text/plain": [
       "          0         1\n",
       "0  1.231844  0.697855\n",
       "1  0.977373  0.926038"
      ]
     },
     "execution_count": 19,
     "metadata": {},
     "output_type": "execute_result"
    }
   ],
   "source": [
    "multipl_matrix = rand_matrix1.dot(trans_matrix)\n",
    "pd.DataFrame(multipl_matrix)"
   ]
  },
  {
   "cell_type": "markdown",
   "id": "ad6bcd23",
   "metadata": {},
   "source": [
    "## Игра \"Жизнь\""
   ]
  },
  {
   "cell_type": "markdown",
   "id": "9bf18412",
   "metadata": {},
   "source": [
    "* Место действия игры — размеченная на клетки плоскость, которая может быть безграничной, ограниченной или замкнутой.\n",
    "* Каждая клетка на этой поверхности имеет восемь соседей, окружающих её, и может находиться в двух состояниях: быть «живой» (заполненной) или «мёртвой» (пустой)."
   ]
  },
  {
   "cell_type": "code",
   "execution_count": 189,
   "id": "84f66de3",
   "metadata": {},
   "outputs": [],
   "source": [
    "import seaborn as sns\n",
    "import matplotlib.pyplot as plt\n",
    "plt.rcParams[\"figure.figsize\"] = (6,4)"
   ]
  },
  {
   "cell_type": "markdown",
   "id": "36131d39",
   "metadata": {},
   "source": [
    "Создаем первое поколение - распределение живых клеток начала игры. Будем генерировать его рандомно, взяв примерно 20 процентную вероятность возникновения живой клетки на поле. Еденицы - живые клетки, а нули мертвые."
   ]
  },
  {
   "cell_type": "code",
   "execution_count": 190,
   "id": "fc4b3826",
   "metadata": {},
   "outputs": [],
   "source": [
    "def create_base_field(n, m):\n",
    "    \"\"\"Создание первого поколения\"\"\"\n",
    "    \n",
    "    field = np.zeros((n,m))\n",
    "    \n",
    "    # Вероятность появления живой клетки\n",
    "    threshold = 0.2\n",
    "    \n",
    "    # Создаем базовую матрицу первого поколения\n",
    "    for row in range(1, field.shape[0]-1):\n",
    "        for col in range(1, field.shape[1]-1):\n",
    "            probability = np.random.rand()\n",
    "            \n",
    "            if probability < threshold:\n",
    "                field[row][col] = 1\n",
    "\n",
    "    return field"
   ]
  },
  {
   "cell_type": "code",
   "execution_count": 210,
   "id": "2676dcd3",
   "metadata": {},
   "outputs": [],
   "source": [
    "field_rows = 12\n",
    "field_cols = 12"
   ]
  },
  {
   "cell_type": "code",
   "execution_count": 211,
   "id": "7a60a3a8",
   "metadata": {},
   "outputs": [],
   "source": [
    "# Первое поколение\n",
    "base_field = create_base_field(field_rows, field_cols)"
   ]
  },
  {
   "cell_type": "markdown",
   "id": "5da861f4",
   "metadata": {},
   "source": [
    "При расчете логики выживаемости клетки, учитываются все соседние клетки. Так как массив numpy не может ссылаться на элементы, находящиеся вне массива, то создадим вокруг игрового поля размерности (n x n) нулевые строки и столбцы, которые будут выполнять только вспомогательную функцию. Таким образом матрица примет размерность (n+2 x n+2)."
   ]
  },
  {
   "cell_type": "code",
   "execution_count": 212,
   "id": "17c4c56b",
   "metadata": {},
   "outputs": [],
   "source": [
    "def create_heatmap(array):\n",
    "    \"\"\"Тепловая карта поля игры\"\"\"\n",
    "    \n",
    "    heatmap = sns.heatmap(array[1:-1,1:-1], cmap = 'Greens', linewidths = 0.25, linecolor = 'black')\n",
    "    return heatmap"
   ]
  },
  {
   "cell_type": "markdown",
   "id": "84af897f",
   "metadata": {},
   "source": [
    "Распределение живых клеток в начале игры называется первым поколением. Каждое следующее поколение рассчитывается на основе предыдущего по таким правилам:\n",
    "* в пустой (мёртвой) клетке, с которой соседствуют три живые клетки, зарождается жизнь;\n",
    "* если у живой клетки есть две или три живые соседки, то эта клетка продолжает жить; в противном случае (если живых соседей меньше двух или больше трёх) клетка умирает («от одиночества» или «от перенаселённости»)."
   ]
  },
  {
   "cell_type": "code",
   "execution_count": 213,
   "id": "65d65424",
   "metadata": {},
   "outputs": [],
   "source": [
    "def cell_value_new(count_near, cell_value):\n",
    "    \"\"\"Правила выживаемости клетки\"\"\"\n",
    "    \n",
    "    # Если клетка жива \n",
    "    if cell_value == 1:\n",
    "        \n",
    "        # если есть две или три живые соседки\n",
    "        if count_near in (2,3):\n",
    "            return 1\n",
    "        else:\n",
    "            return 0\n",
    "    \n",
    "    # Если клетка мертва\n",
    "    elif cell_value == 0:\n",
    "        \n",
    "        # если соседствуют три живые клетки\n",
    "        if count_near == 3:\n",
    "            return 1\n",
    "        else:\n",
    "            return 0"
   ]
  },
  {
   "cell_type": "code",
   "execution_count": 214,
   "id": "82b777e9",
   "metadata": {},
   "outputs": [],
   "source": [
    "def gener_new_field(base_field):\n",
    "    \"\"\"Генерация нового поколения\"\"\"\n",
    "    \n",
    "    # Количество строк\n",
    "    row_numbers = base_field.shape[0]\n",
    "    \n",
    "    # Количество столбцов\n",
    "    col_numbers = base_field.shape[1]\n",
    "    \n",
    "    base_field_new = np.zeros((field_rows, field_cols))\n",
    "    \n",
    "    \n",
    "    # Расчет количества живых соседних клеток\n",
    "    for row in range(1, row_numbers-1):\n",
    "        for col in range(1, col_numbers-1):\n",
    "            n1 = base_field[row-1][col-1]\n",
    "            n2 = base_field[row-1][col]\n",
    "            n3 = base_field[row-1][col+1]\n",
    "            n4 = base_field[row][col+1]\n",
    "            n5 = base_field[row+1][col+1]\n",
    "            n6 = base_field[row+1][col]\n",
    "            n7 = base_field[row+1][col-1]\n",
    "            n8 = base_field[row][col-1]\n",
    "\n",
    "            count_near = n1 + n2 + n3 + n4 + n5 + n6 + n7 + n8\n",
    "            cell_value = cell_value_new(count_near, base_field[row][col])\n",
    "            \n",
    "            # Генерация нового поколения\n",
    "            base_field_new[row][col] = cell_value\n",
    "            \n",
    "    return base_field_new"
   ]
  },
  {
   "cell_type": "markdown",
   "id": "a56c6c30",
   "metadata": {},
   "source": [
    "Игра прекращается, если\n",
    "* на поле не останется ни одной «живой» клетки;\n",
    "* конфигурация на очередном шаге в точности (без сдвигов и поворотов) повторит себя же на одном из более ранних шагов (складывается периодическая конфигурация)\n",
    "* при очередном шаге ни одна из клеток не меняет своего состояния (предыдущее правило действует на один шаг назад, складывается стабильная конфигурация)"
   ]
  },
  {
   "cell_type": "code",
   "execution_count": 215,
   "id": "ca8639a8",
   "metadata": {},
   "outputs": [],
   "source": [
    "def culc_iter_number(base_field):\n",
    "    \"\"\"Расчет количества итераций до конца игры\"\"\"\n",
    "    \n",
    "    # Список всех матриц поколений игры\n",
    "    base_field_list = []\n",
    "\n",
    "    iteration = 1\n",
    "    \n",
    "    # Прописываем логику конца игры\n",
    "    while iteration < 100000:\n",
    "        base_field_prev = base_field.copy()\n",
    "        base_field_list.append(base_field_prev)\n",
    "        \n",
    "        base_field = gener_new_field(base_field)\n",
    "        \n",
    "        # Стабильная конфигурация\n",
    "        if np.array_equal(base_field_prev, base_field):\n",
    "            return iteration\n",
    "            break\n",
    "        \n",
    "        # на поле не останется ни одной «живой» клетки\n",
    "        if base_field.sum() == 0:\n",
    "            return iteration\n",
    "            break\n",
    "        \n",
    "        # периодическая конфигурация\n",
    "        for field in base_field_list:\n",
    "            if np.array_equal(field, base_field):\n",
    "                return iteration\n",
    "                break\n",
    "                \n",
    "        iteration += 1"
   ]
  },
  {
   "cell_type": "code",
   "execution_count": 216,
   "id": "fe58eb43",
   "metadata": {},
   "outputs": [],
   "source": [
    "# Количество итерация до конца игры\n",
    "iter_number = culc_iter_number(base_field)"
   ]
  },
  {
   "cell_type": "code",
   "execution_count": 220,
   "id": "6723a346",
   "metadata": {},
   "outputs": [],
   "source": [
    "def create_live_game(base_field, iter_number):\n",
    "    \"\"\"Создаем игру жизнь\"\"\"\n",
    "    \n",
    "    # Размеры графиков \n",
    "    plt.figure(figsize=(18, iter_number*3))\n",
    "    \n",
    "    # Выводим тепловую карту для каждого поколения игры\n",
    "    for iteration in range(iter_number):\n",
    "        base_field = gener_new_field(base_field)\n",
    "        \n",
    "        subplot_rows_numbers = int(iter_number/2)+1\n",
    "        plt.subplot(subplot_rows_numbers,2,iteration+1)\n",
    "        plt.subplots_adjust(hspace=0.2)\n",
    "        plt.title(f'Поколение № {iteration+2}', fontsize=14)\n",
    "        \n",
    "        create_heatmap(base_field)"
   ]
  },
  {
   "cell_type": "code",
   "execution_count": 221,
   "id": "b4d31bdf",
   "metadata": {
    "scrolled": false
   },
   "outputs": [
    {
     "data": {
      "text/plain": [
       "<AxesSubplot:>"
      ]
     },
     "execution_count": 221,
     "metadata": {},
     "output_type": "execute_result"
    },
    {
     "data": {
      "image/png": "[encoded data removed]",
      "text/plain": [
       "<Figure size 600x400 with 2 Axes>"
      ]
     },
     "metadata": {},
     "output_type": "display_data"
    }
   ],
   "source": [
    "# Первое поколение\n",
    "create_heatmap(base_field)"
   ]
  },
  {
   "cell_type": "code",
   "execution_count": 222,
   "id": "8de66792",
   "metadata": {
    "scrolled": false
   },
   "outputs": [
    {
     "data": {
      "image/png": "[encoded data removed]",
      "text/plain": [
       "<Figure size 1800x4200 with 28 Axes>"
      ]
     },
     "metadata": {},
     "output_type": "display_data"
    }
   ],
   "source": [
    "create_live_game(base_field, iter_number)"
   ]
  },
  {
   "cell_type": "code",
   "execution_count": null,
   "id": "46403c13",
   "metadata": {},
   "outputs": [],
   "source": []
  }
 ],
 "metadata": {
  "kernelspec": {
   "display_name": "Python 3 (ipykernel)",
   "language": "python",
   "name": "python3"
  },
  "language_info": {
   "codemirror_mode": {
    "name": "ipython",
    "version": 3
   },
   "file_extension": ".py",
   "mimetype": "text/x-python",
   "name": "python",
   "nbconvert_exporter": "python",
   "pygments_lexer": "ipython3",
   "version": "3.9.12"
  },
  "toc": {
   "base_numbering": 1,
   "nav_menu": {},
   "number_sections": true,
   "sideBar": true,
   "skip_h1_title": false,
   "title_cell": "Table of Contents",
   "title_sidebar": "Contents",
   "toc_cell": true,
   "toc_position": {},
   "toc_section_display": true,
   "toc_window_display": false
  }
 },
 "nbformat": 4,
 "nbformat_minor": 5
}
