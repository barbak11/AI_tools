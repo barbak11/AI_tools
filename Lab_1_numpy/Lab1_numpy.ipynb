{
 "cells": [
  {
   "cell_type": "markdown",
   "id": "6d07f513",
   "metadata": {},
   "source": [
    "# Использование NumPy"
   ]
  },
  {
   "cell_type": "markdown",
   "id": "80ab1a90",
   "metadata": {},
   "source": [
    "Импортируем необходимые библиотеки"
   ]
  },
  {
   "cell_type": "code",
   "execution_count": 54,
   "id": "80711649",
   "metadata": {},
   "outputs": [],
   "source": [
    "import numpy as np\n",
    "import time\n",
    "import random\n",
    "import pandas as pd"
   ]
  },
  {
   "cell_type": "markdown",
   "id": "c8858f6a",
   "metadata": {},
   "source": [
    "## Генерация массивов"
   ]
  },
  {
   "cell_type": "markdown",
   "id": "cdab388c",
   "metadata": {},
   "source": [
    "Генерируем линейный массив чисел с плавающей точкой размерностью (1,20)"
   ]
  },
  {
   "cell_type": "code",
   "execution_count": 68,
   "id": "94083715",
   "metadata": {
    "scrolled": false
   },
   "outputs": [
    {
     "data": {
      "text/plain": [
       "array([8.69196143e-01, 8.21762997e-01, 7.51224166e-01, 7.60661858e-01,\n",
       "       1.23927295e-01, 8.40858222e-01, 2.36344337e-01, 5.15778687e-01,\n",
       "       6.06518529e-01, 3.08103610e-01, 5.40501317e-01, 9.16888692e-01,\n",
       "       6.06433209e-01, 3.44987453e-01, 3.76282334e-02, 7.10313594e-04,\n",
       "       8.04805533e-01, 9.84567466e-01, 2.11747355e-01, 2.50465634e-01])"
      ]
     },
     "execution_count": 68,
     "metadata": {},
     "output_type": "execute_result"
    }
   ],
   "source": [
    "np.random.rand(20)"
   ]
  },
  {
   "cell_type": "markdown",
   "id": "a7dae88d",
   "metadata": {},
   "source": [
    "Далее создаем функцию генерации одномерных массивов и оцениваем время, затраченного на генерацию"
   ]
  },
  {
   "cell_type": "code",
   "execution_count": 34,
   "id": "edde002a",
   "metadata": {},
   "outputs": [],
   "source": [
    "def generate_array_numpy():\n",
    "    count_list = [100,1000,100000,1000000,100000000]\n",
    "    for count in count_list:\n",
    "        start_time = time.time()\n",
    "        np.random.rand(count)\n",
    "        \n",
    "        time_now = (time.time() - start_time)\n",
    "        time_now = round(time_now, 3)\n",
    "        print(f\"{count} элементов генерируется {time_now} секунд\")"
   ]
  },
  {
   "cell_type": "code",
   "execution_count": 35,
   "id": "50ad10a2",
   "metadata": {
    "scrolled": true
   },
   "outputs": [
    {
     "name": "stdout",
     "output_type": "stream",
     "text": [
      "100 элементов генерируется 0.0 секунд\n",
      "1000 элементов генерируется 0.0 секунд\n",
      "100000 элементов генерируется 0.001 секунд\n",
      "1000000 элементов генерируется 0.016 секунд\n",
      "100000000 элементов генерируется 1.487 секунд\n"
     ]
    }
   ],
   "source": [
    "generate_array_numpy()"
   ]
  },
  {
   "cell_type": "markdown",
   "id": "0d9fbbcd",
   "metadata": {},
   "source": [
    "Генерируем двумерный массив чисел с плавающей точкой размерностью (2,10)"
   ]
  },
  {
   "cell_type": "code",
   "execution_count": 69,
   "id": "53af74f6",
   "metadata": {},
   "outputs": [
    {
     "data": {
      "text/plain": [
       "array([[0.32522623, 0.55025363, 0.00859578, 0.14154292, 0.55707401,\n",
       "        0.78456337, 0.00908645, 0.43703931, 0.65410934, 0.27324417],\n",
       "       [0.1627704 , 0.15167047, 0.62567318, 0.91377996, 0.18434153,\n",
       "        0.17548984, 0.85185595, 0.30061704, 0.82020364, 0.00168318]])"
      ]
     },
     "execution_count": 69,
     "metadata": {},
     "output_type": "execute_result"
    }
   ],
   "source": [
    "np.random.rand(2,10)"
   ]
  },
  {
   "cell_type": "markdown",
   "id": "e42bbc02",
   "metadata": {},
   "source": [
    "Функция генерации двумерных массивов с оценкой затраченного времени"
   ]
  },
  {
   "cell_type": "code",
   "execution_count": 36,
   "id": "f10b1c68",
   "metadata": {},
   "outputs": [],
   "source": [
    "def generate_matrix_numpy():\n",
    "    count_list = [100,1000,100000,1000000,100000000]\n",
    "    for count in count_list:\n",
    "        start_time = time.time()\n",
    "        np.random.rand(2, count)\n",
    "        \n",
    "        time_now = (time.time() - start_time)\n",
    "        time_now = round(time_now, 3)\n",
    "        print(f\"{count} элементов генерируется {time_now} секунд\")"
   ]
  },
  {
   "cell_type": "code",
   "execution_count": 37,
   "id": "fd6442dd",
   "metadata": {
    "scrolled": true
   },
   "outputs": [
    {
     "name": "stdout",
     "output_type": "stream",
     "text": [
      "100 элементов генерируется 0.0 секунд\n",
      "1000 элементов генерируется 0.0 секунд\n",
      "100000 элементов генерируется 0.01 секунд\n",
      "1000000 элементов генерируется 0.025 секунд\n",
      "100000000 элементов генерируется 2.825 секунд\n"
     ]
    }
   ],
   "source": [
    "generate_matrix_numpy()"
   ]
  },
  {
   "cell_type": "markdown",
   "id": "81ef725f",
   "metadata": {},
   "source": [
    "Затем попробуем сгенерировать массивы с помощью стандартной библиотеки pyhon и сравнить время, которое затрачивается на генерацию массивов одинаковой размерности."
   ]
  },
  {
   "cell_type": "code",
   "execution_count": 47,
   "id": "7e91c540",
   "metadata": {},
   "outputs": [
    {
     "data": {
      "text/plain": [
       "[0.05092981525271789,\n",
       " 0.22844718374535766,\n",
       " 0.24840237159268008,\n",
       " 0.8376562099969839,\n",
       " 0.12354418750376228,\n",
       " 0.8426551935598487,\n",
       " 0.1081439099289161,\n",
       " 0.7642152002169148,\n",
       " 0.2597372524555416,\n",
       " 0.4797067292791384,\n",
       " 0.39200827964338436,\n",
       " 0.7161300984513246,\n",
       " 0.677931090814924,\n",
       " 0.9920918603845617,\n",
       " 0.45369826456363505,\n",
       " 0.7945888659429452,\n",
       " 0.8714261270834369,\n",
       " 0.3065170817080841,\n",
       " 0.05445781392036231,\n",
       " 0.8783885693418022]"
      ]
     },
     "execution_count": 47,
     "metadata": {},
     "output_type": "execute_result"
    }
   ],
   "source": [
    "array_list = []\n",
    "for i in range(20):\n",
    "    array_list.append(random.random())\n",
    "array_list"
   ]
  },
  {
   "cell_type": "code",
   "execution_count": 49,
   "id": "ab0afee5",
   "metadata": {},
   "outputs": [],
   "source": [
    "def generate_array_python():\n",
    "    count_list = [100,1000,100000,1000000,100000000]\n",
    "    for count in count_list:\n",
    "        start_time = time.time()\n",
    "        \n",
    "        array_list = []\n",
    "        for iter in range(count):\n",
    "            array_list.append(random.random())\n",
    "        \n",
    "        time_now = (time.time() - start_time)\n",
    "        time_now = round(time_now, 3)\n",
    "        print(f\"{count} элементов генерируется {time_now} секунд\")"
   ]
  },
  {
   "cell_type": "code",
   "execution_count": 50,
   "id": "cc4bc21f",
   "metadata": {},
   "outputs": [
    {
     "name": "stdout",
     "output_type": "stream",
     "text": [
      "100 элементов генерируется 0.0 секунд\n",
      "1000 элементов генерируется 0.0 секунд\n",
      "100000 элементов генерируется 0.025 секунд\n",
      "1000000 элементов генерируется 0.268 секунд\n",
      "100000000 элементов генерируется 25.75 секунд\n"
     ]
    }
   ],
   "source": [
    "generate_matrix_python()"
   ]
  },
  {
   "cell_type": "markdown",
   "id": "61568896",
   "metadata": {},
   "source": [
    "**На генерацию массивов с помощью стандартной библиотеки python уходит намного больше времени, чем используя numpy. Так например, чтобы создать одномерный массив размерностью (1, 1000000), у python уходит 25.75 секунд, а у numpy всего 2.825**"
   ]
  },
  {
   "cell_type": "markdown",
   "id": "a9df5605",
   "metadata": {},
   "source": [
    "## Арифметические операции над элементами двумерного массива"
   ]
  },
  {
   "cell_type": "markdown",
   "id": "f4cb4b2b",
   "metadata": {},
   "source": [
    "Создадим 2 матрицы размера (2,5)"
   ]
  },
  {
   "cell_type": "code",
   "execution_count": 70,
   "id": "7186b942",
   "metadata": {},
   "outputs": [],
   "source": [
    "rand_matrix1 = np.random.rand(2,5)\n",
    "rand_matrix2 = np.random.rand(2,5)"
   ]
  },
  {
   "cell_type": "markdown",
   "id": "eafeb718",
   "metadata": {},
   "source": [
    "Для удобства восприятия выводим массивы в качестве датафрейма"
   ]
  },
  {
   "cell_type": "code",
   "execution_count": 71,
   "id": "06b6ccaf",
   "metadata": {},
   "outputs": [
    {
     "data": {
      "text/html": [
       "<div>\n",
       "<style scoped>\n",
       "    .dataframe tbody tr th:only-of-type {\n",
       "        vertical-align: middle;\n",
       "    }\n",
       "\n",
       "    .dataframe tbody tr th {\n",
       "        vertical-align: top;\n",
       "    }\n",
       "\n",
       "    .dataframe thead th {\n",
       "        text-align: right;\n",
       "    }\n",
       "</style>\n",
       "<table border=\"1\" class=\"dataframe\">\n",
       "  <thead>\n",
       "    <tr style=\"text-align: right;\">\n",
       "      <th></th>\n",
       "      <th>0</th>\n",
       "      <th>1</th>\n",
       "      <th>2</th>\n",
       "      <th>3</th>\n",
       "      <th>4</th>\n",
       "    </tr>\n",
       "  </thead>\n",
       "  <tbody>\n",
       "    <tr>\n",
       "      <th>0</th>\n",
       "      <td>0.286024</td>\n",
       "      <td>0.854715</td>\n",
       "      <td>0.538198</td>\n",
       "      <td>0.723858</td>\n",
       "      <td>0.044789</td>\n",
       "    </tr>\n",
       "    <tr>\n",
       "      <th>1</th>\n",
       "      <td>0.711682</td>\n",
       "      <td>0.374337</td>\n",
       "      <td>0.083428</td>\n",
       "      <td>0.226819</td>\n",
       "      <td>0.438445</td>\n",
       "    </tr>\n",
       "  </tbody>\n",
       "</table>\n",
       "</div>"
      ],
      "text/plain": [
       "          0         1         2         3         4\n",
       "0  0.286024  0.854715  0.538198  0.723858  0.044789\n",
       "1  0.711682  0.374337  0.083428  0.226819  0.438445"
      ]
     },
     "execution_count": 71,
     "metadata": {},
     "output_type": "execute_result"
    }
   ],
   "source": [
    "pd.DataFrame(rand_matrix1)"
   ]
  },
  {
   "cell_type": "code",
   "execution_count": 72,
   "id": "9844aa3b",
   "metadata": {
    "scrolled": true
   },
   "outputs": [
    {
     "data": {
      "text/html": [
       "<div>\n",
       "<style scoped>\n",
       "    .dataframe tbody tr th:only-of-type {\n",
       "        vertical-align: middle;\n",
       "    }\n",
       "\n",
       "    .dataframe tbody tr th {\n",
       "        vertical-align: top;\n",
       "    }\n",
       "\n",
       "    .dataframe thead th {\n",
       "        text-align: right;\n",
       "    }\n",
       "</style>\n",
       "<table border=\"1\" class=\"dataframe\">\n",
       "  <thead>\n",
       "    <tr style=\"text-align: right;\">\n",
       "      <th></th>\n",
       "      <th>0</th>\n",
       "      <th>1</th>\n",
       "      <th>2</th>\n",
       "      <th>3</th>\n",
       "      <th>4</th>\n",
       "    </tr>\n",
       "  </thead>\n",
       "  <tbody>\n",
       "    <tr>\n",
       "      <th>0</th>\n",
       "      <td>0.674485</td>\n",
       "      <td>0.198501</td>\n",
       "      <td>0.560355</td>\n",
       "      <td>0.591097</td>\n",
       "      <td>0.748729</td>\n",
       "    </tr>\n",
       "    <tr>\n",
       "      <th>1</th>\n",
       "      <td>0.323236</td>\n",
       "      <td>0.592268</td>\n",
       "      <td>0.005874</td>\n",
       "      <td>0.198027</td>\n",
       "      <td>0.878524</td>\n",
       "    </tr>\n",
       "  </tbody>\n",
       "</table>\n",
       "</div>"
      ],
      "text/plain": [
       "          0         1         2         3         4\n",
       "0  0.674485  0.198501  0.560355  0.591097  0.748729\n",
       "1  0.323236  0.592268  0.005874  0.198027  0.878524"
      ]
     },
     "execution_count": 72,
     "metadata": {},
     "output_type": "execute_result"
    }
   ],
   "source": [
    "pd.DataFrame(rand_matrix2)"
   ]
  },
  {
   "cell_type": "markdown",
   "id": "089f474f",
   "metadata": {},
   "source": [
    "* Умножение на число"
   ]
  },
  {
   "cell_type": "code",
   "execution_count": 73,
   "id": "1a98ec61",
   "metadata": {
    "scrolled": true
   },
   "outputs": [
    {
     "data": {
      "text/html": [
       "<div>\n",
       "<style scoped>\n",
       "    .dataframe tbody tr th:only-of-type {\n",
       "        vertical-align: middle;\n",
       "    }\n",
       "\n",
       "    .dataframe tbody tr th {\n",
       "        vertical-align: top;\n",
       "    }\n",
       "\n",
       "    .dataframe thead th {\n",
       "        text-align: right;\n",
       "    }\n",
       "</style>\n",
       "<table border=\"1\" class=\"dataframe\">\n",
       "  <thead>\n",
       "    <tr style=\"text-align: right;\">\n",
       "      <th></th>\n",
       "      <th>0</th>\n",
       "      <th>1</th>\n",
       "      <th>2</th>\n",
       "      <th>3</th>\n",
       "      <th>4</th>\n",
       "    </tr>\n",
       "  </thead>\n",
       "  <tbody>\n",
       "    <tr>\n",
       "      <th>0</th>\n",
       "      <td>1.430121</td>\n",
       "      <td>4.273576</td>\n",
       "      <td>2.690989</td>\n",
       "      <td>3.619288</td>\n",
       "      <td>0.223943</td>\n",
       "    </tr>\n",
       "    <tr>\n",
       "      <th>1</th>\n",
       "      <td>3.558408</td>\n",
       "      <td>1.871683</td>\n",
       "      <td>0.417138</td>\n",
       "      <td>1.134094</td>\n",
       "      <td>2.192224</td>\n",
       "    </tr>\n",
       "  </tbody>\n",
       "</table>\n",
       "</div>"
      ],
      "text/plain": [
       "          0         1         2         3         4\n",
       "0  1.430121  4.273576  2.690989  3.619288  0.223943\n",
       "1  3.558408  1.871683  0.417138  1.134094  2.192224"
      ]
     },
     "execution_count": 73,
     "metadata": {},
     "output_type": "execute_result"
    }
   ],
   "source": [
    "number_multipl_matrix = 5 * rand_matrix1\n",
    "pd.DataFrame(number_multipl_matrix)"
   ]
  },
  {
   "cell_type": "markdown",
   "id": "82a47d64",
   "metadata": {},
   "source": [
    "* Сложение матриц"
   ]
  },
  {
   "cell_type": "code",
   "execution_count": 74,
   "id": "41b8b77f",
   "metadata": {
    "scrolled": true
   },
   "outputs": [
    {
     "data": {
      "text/html": [
       "<div>\n",
       "<style scoped>\n",
       "    .dataframe tbody tr th:only-of-type {\n",
       "        vertical-align: middle;\n",
       "    }\n",
       "\n",
       "    .dataframe tbody tr th {\n",
       "        vertical-align: top;\n",
       "    }\n",
       "\n",
       "    .dataframe thead th {\n",
       "        text-align: right;\n",
       "    }\n",
       "</style>\n",
       "<table border=\"1\" class=\"dataframe\">\n",
       "  <thead>\n",
       "    <tr style=\"text-align: right;\">\n",
       "      <th></th>\n",
       "      <th>0</th>\n",
       "      <th>1</th>\n",
       "      <th>2</th>\n",
       "      <th>3</th>\n",
       "      <th>4</th>\n",
       "    </tr>\n",
       "  </thead>\n",
       "  <tbody>\n",
       "    <tr>\n",
       "      <th>0</th>\n",
       "      <td>0.960509</td>\n",
       "      <td>1.053216</td>\n",
       "      <td>1.098552</td>\n",
       "      <td>1.314955</td>\n",
       "      <td>0.793518</td>\n",
       "    </tr>\n",
       "    <tr>\n",
       "      <th>1</th>\n",
       "      <td>1.034917</td>\n",
       "      <td>0.966605</td>\n",
       "      <td>0.089302</td>\n",
       "      <td>0.424846</td>\n",
       "      <td>1.316969</td>\n",
       "    </tr>\n",
       "  </tbody>\n",
       "</table>\n",
       "</div>"
      ],
      "text/plain": [
       "          0         1         2         3         4\n",
       "0  0.960509  1.053216  1.098552  1.314955  0.793518\n",
       "1  1.034917  0.966605  0.089302  0.424846  1.316969"
      ]
     },
     "execution_count": 74,
     "metadata": {},
     "output_type": "execute_result"
    }
   ],
   "source": [
    "sum_matrix = rand_matrix1 + rand_matrix2\n",
    "pd.DataFrame(sum_matrix)"
   ]
  },
  {
   "cell_type": "markdown",
   "id": "8b882267",
   "metadata": {},
   "source": [
    "* Разность матриц"
   ]
  },
  {
   "cell_type": "code",
   "execution_count": 75,
   "id": "98d2ebba",
   "metadata": {
    "scrolled": true
   },
   "outputs": [
    {
     "data": {
      "text/html": [
       "<div>\n",
       "<style scoped>\n",
       "    .dataframe tbody tr th:only-of-type {\n",
       "        vertical-align: middle;\n",
       "    }\n",
       "\n",
       "    .dataframe tbody tr th {\n",
       "        vertical-align: top;\n",
       "    }\n",
       "\n",
       "    .dataframe thead th {\n",
       "        text-align: right;\n",
       "    }\n",
       "</style>\n",
       "<table border=\"1\" class=\"dataframe\">\n",
       "  <thead>\n",
       "    <tr style=\"text-align: right;\">\n",
       "      <th></th>\n",
       "      <th>0</th>\n",
       "      <th>1</th>\n",
       "      <th>2</th>\n",
       "      <th>3</th>\n",
       "      <th>4</th>\n",
       "    </tr>\n",
       "  </thead>\n",
       "  <tbody>\n",
       "    <tr>\n",
       "      <th>0</th>\n",
       "      <td>-0.388461</td>\n",
       "      <td>0.656214</td>\n",
       "      <td>-0.022157</td>\n",
       "      <td>0.132760</td>\n",
       "      <td>-0.703940</td>\n",
       "    </tr>\n",
       "    <tr>\n",
       "      <th>1</th>\n",
       "      <td>0.388446</td>\n",
       "      <td>-0.217932</td>\n",
       "      <td>0.077553</td>\n",
       "      <td>0.028792</td>\n",
       "      <td>-0.440079</td>\n",
       "    </tr>\n",
       "  </tbody>\n",
       "</table>\n",
       "</div>"
      ],
      "text/plain": [
       "          0         1         2         3         4\n",
       "0 -0.388461  0.656214 -0.022157  0.132760 -0.703940\n",
       "1  0.388446 -0.217932  0.077553  0.028792 -0.440079"
      ]
     },
     "execution_count": 75,
     "metadata": {},
     "output_type": "execute_result"
    }
   ],
   "source": [
    "sum_matrix = rand_matrix1 - rand_matrix2\n",
    "pd.DataFrame(sum_matrix)"
   ]
  },
  {
   "cell_type": "markdown",
   "id": "30840a62",
   "metadata": {},
   "source": [
    "* Транспонирование матрицы"
   ]
  },
  {
   "cell_type": "code",
   "execution_count": 77,
   "id": "4d2a8d45",
   "metadata": {
    "scrolled": true
   },
   "outputs": [
    {
     "data": {
      "text/html": [
       "<div>\n",
       "<style scoped>\n",
       "    .dataframe tbody tr th:only-of-type {\n",
       "        vertical-align: middle;\n",
       "    }\n",
       "\n",
       "    .dataframe tbody tr th {\n",
       "        vertical-align: top;\n",
       "    }\n",
       "\n",
       "    .dataframe thead th {\n",
       "        text-align: right;\n",
       "    }\n",
       "</style>\n",
       "<table border=\"1\" class=\"dataframe\">\n",
       "  <thead>\n",
       "    <tr style=\"text-align: right;\">\n",
       "      <th></th>\n",
       "      <th>0</th>\n",
       "      <th>1</th>\n",
       "    </tr>\n",
       "  </thead>\n",
       "  <tbody>\n",
       "    <tr>\n",
       "      <th>0</th>\n",
       "      <td>0.674485</td>\n",
       "      <td>0.323236</td>\n",
       "    </tr>\n",
       "    <tr>\n",
       "      <th>1</th>\n",
       "      <td>0.198501</td>\n",
       "      <td>0.592268</td>\n",
       "    </tr>\n",
       "    <tr>\n",
       "      <th>2</th>\n",
       "      <td>0.560355</td>\n",
       "      <td>0.005874</td>\n",
       "    </tr>\n",
       "    <tr>\n",
       "      <th>3</th>\n",
       "      <td>0.591097</td>\n",
       "      <td>0.198027</td>\n",
       "    </tr>\n",
       "    <tr>\n",
       "      <th>4</th>\n",
       "      <td>0.748729</td>\n",
       "      <td>0.878524</td>\n",
       "    </tr>\n",
       "  </tbody>\n",
       "</table>\n",
       "</div>"
      ],
      "text/plain": [
       "          0         1\n",
       "0  0.674485  0.323236\n",
       "1  0.198501  0.592268\n",
       "2  0.560355  0.005874\n",
       "3  0.591097  0.198027\n",
       "4  0.748729  0.878524"
      ]
     },
     "execution_count": 77,
     "metadata": {},
     "output_type": "execute_result"
    }
   ],
   "source": [
    "trans_matrix = rand_matrix2.T\n",
    "pd.DataFrame(trans_matrix)"
   ]
  },
  {
   "cell_type": "markdown",
   "id": "a1b8c96c",
   "metadata": {},
   "source": [
    "* Произведение матриц"
   ]
  },
  {
   "cell_type": "code",
   "execution_count": 78,
   "id": "24279a15",
   "metadata": {},
   "outputs": [
    {
     "data": {
      "text/html": [
       "<div>\n",
       "<style scoped>\n",
       "    .dataframe tbody tr th:only-of-type {\n",
       "        vertical-align: middle;\n",
       "    }\n",
       "\n",
       "    .dataframe tbody tr th {\n",
       "        vertical-align: top;\n",
       "    }\n",
       "\n",
       "    .dataframe thead th {\n",
       "        text-align: right;\n",
       "    }\n",
       "</style>\n",
       "<table border=\"1\" class=\"dataframe\">\n",
       "  <thead>\n",
       "    <tr style=\"text-align: right;\">\n",
       "      <th></th>\n",
       "      <th>0</th>\n",
       "      <th>1</th>\n",
       "    </tr>\n",
       "  </thead>\n",
       "  <tbody>\n",
       "    <tr>\n",
       "      <th>0</th>\n",
       "      <td>1.125567</td>\n",
       "      <td>0.784527</td>\n",
       "    </tr>\n",
       "    <tr>\n",
       "      <th>1</th>\n",
       "      <td>1.063422</td>\n",
       "      <td>0.882339</td>\n",
       "    </tr>\n",
       "  </tbody>\n",
       "</table>\n",
       "</div>"
      ],
      "text/plain": [
       "          0         1\n",
       "0  1.125567  0.784527\n",
       "1  1.063422  0.882339"
      ]
     },
     "execution_count": 78,
     "metadata": {},
     "output_type": "execute_result"
    }
   ],
   "source": [
    "multipl_matrix = rand_matrix1.dot(trans_matrix)\n",
    "pd.DataFrame(multipl_matrix)"
   ]
  },
  {
   "cell_type": "code",
   "execution_count": null,
   "id": "cf406818",
   "metadata": {},
   "outputs": [],
   "source": []
  }
 ],
 "metadata": {
  "kernelspec": {
   "display_name": "Python 3 (ipykernel)",
   "language": "python",
   "name": "python3"
  },
  "language_info": {
   "codemirror_mode": {
    "name": "ipython",
    "version": 3
   },
   "file_extension": ".py",
   "mimetype": "text/x-python",
   "name": "python",
   "nbconvert_exporter": "python",
   "pygments_lexer": "ipython3",
   "version": "3.9.12"
  }
 },
 "nbformat": 4,
 "nbformat_minor": 5
}
